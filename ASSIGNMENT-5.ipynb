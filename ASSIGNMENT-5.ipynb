{
 "cells": [
  {
   "cell_type": "markdown",
   "id": "c1e1a54e",
   "metadata": {},
   "source": [
    "## - Task: 5\n",
    "\n",
    "- Registration/referral ID - SIRSS2214.\n",
    "\n",
    "- Full Name: Diptesh Milind Chaudhari."
   ]
  },
  {
   "cell_type": "markdown",
   "id": "5bcc4241",
   "metadata": {},
   "source": [
    "### Q1. Given a list of integers, write a function to return the sum of all prime numbers in that list"
   ]
  },
  {
   "cell_type": "code",
   "execution_count": 1,
   "id": "ade7b074",
   "metadata": {},
   "outputs": [
    {
     "name": "stdout",
     "output_type": "stream",
     "text": [
      "List of prime numbers is [2, 3, 5, 7, 11, 13, 17, 19, 23, 29, 31, 37, 41, 43, 47, 53, 59, 61, 67, 71, 73, 79, 83, 89, 97, 101, 103, 107, 109, 113, 127, 131, 137, 139, 149, 151, 157, 163, 167, 173, 179, 181, 191, 193, 197, 199, 211, 223, 227, 229, 233, 239, 241, 251, 257, 263, 269, 271, 277, 281, 283, 293, 307, 311, 313, 317, 331, 337, 347, 349, 353, 359, 367, 373, 379, 383, 389, 397, 401, 409, 419, 421, 431, 433, 439, 443, 449, 457, 461, 463, 467, 479, 487, 491, 499]\n",
      "The sum of all prime numbers in given list is 21536\n"
     ]
    }
   ],
   "source": [
    "def add(l):\n",
    "  sum = 0\n",
    "  a = []\n",
    "  for i in l:\n",
    "    if l[i] > 1:\n",
    "      if all(l[i] % j != 0 for j in range(2, int(l[i]**0.5)+1)):\n",
    "        sum = sum + l[i]\n",
    "        a.append(l[i])\n",
    "    else:\n",
    "      continue\n",
    "  print(f\"List of prime numbers is {a}\")\n",
    "  return sum\n",
    "\n",
    "l = range(0, 500)\n",
    "print(f\"The sum of all prime numbers in given list is {add(l)}\")"
   ]
  },
  {
   "cell_type": "markdown",
   "id": "ea0912d0",
   "metadata": {},
   "source": [
    "### Q2. Given a list of integers, write a function to check whether the list is strictly increasing or not."
   ]
  },
  {
   "cell_type": "code",
   "execution_count": 2,
   "id": "1a127738",
   "metadata": {},
   "outputs": [],
   "source": [
    "def order(arr):\n",
    "    for i in range(1, len(arr)):\n",
    "        if arr[i] > arr[i - 1]:\n",
    "            return 'STRICTLY INCREASING'\n",
    "    return 'STRICTLY DECREASING'"
   ]
  },
  {
   "cell_type": "code",
   "execution_count": 3,
   "id": "65239d58",
   "metadata": {},
   "outputs": [
    {
     "data": {
      "text/plain": [
       "'STRICTLY INCREASING'"
      ]
     },
     "execution_count": 3,
     "metadata": {},
     "output_type": "execute_result"
    }
   ],
   "source": [
    "order([2, 3, 4, 5, 6, 7, 78])"
   ]
  },
  {
   "cell_type": "code",
   "execution_count": 4,
   "id": "691471e1",
   "metadata": {},
   "outputs": [
    {
     "data": {
      "text/plain": [
       "'STRICTLY DECREASING'"
      ]
     },
     "execution_count": 4,
     "metadata": {},
     "output_type": "execute_result"
    }
   ],
   "source": [
    "order([8, 4, 3, 1, 0])"
   ]
  },
  {
   "cell_type": "markdown",
   "id": "93d99d37",
   "metadata": {},
   "source": [
    "### Q3. Write a function to check whether a given list is expanding or not (the difference between adjacent elements should keep on increasing)."
   ]
  },
  {
   "cell_type": "code",
   "execution_count": 5,
   "id": "ef65ec83",
   "metadata": {},
   "outputs": [
    {
     "data": {
      "text/plain": [
       "True"
      ]
     },
     "execution_count": 5,
     "metadata": {},
     "output_type": "execute_result"
    }
   ],
   "source": [
    "import numpy as np\n",
    "def expanding(k):\n",
    "    if isinstance(k, list):\n",
    "        k = np.array(k)\n",
    "\n",
    "    return (np.diff(abs(k[1:] - k[:-1])) > 0).all()\n",
    "expanding([1,2,5,10,17])"
   ]
  },
  {
   "cell_type": "markdown",
   "id": "ebb113bc",
   "metadata": {},
   "source": [
    "### Q4. Write a function to calculate all permutations of a given string. (Without using itertools)"
   ]
  },
  {
   "cell_type": "code",
   "execution_count": 6,
   "id": "87e470ac",
   "metadata": {},
   "outputs": [
    {
     "name": "stdout",
     "output_type": "stream",
     "text": [
      "DIPU\n",
      "DIUP\n",
      "DPIU\n",
      "DPUI\n",
      "DUPI\n",
      "DUIP\n",
      "IDPU\n",
      "IDUP\n",
      "IPDU\n",
      "IPUD\n",
      "IUPD\n",
      "IUDP\n",
      "PIDU\n",
      "PIUD\n",
      "PDIU\n",
      "PDUI\n",
      "PUDI\n",
      "PUID\n",
      "UIPD\n",
      "UIDP\n",
      "UPID\n",
      "UPDI\n",
      "UDPI\n",
      "UDIP\n"
     ]
    }
   ],
   "source": [
    "\n",
    "def String(List):\n",
    "    return ''.join(List)\n",
    "\n",
    "def permutations(p, q, r):\n",
    "    if q==r:\n",
    "        print (String(p))\n",
    "    else:\n",
    "        for i in range (q,r+1):\n",
    "            p[q], p[i] = p[i], p[q]\n",
    "            permutations(p, q+1, r)\n",
    "            p[q], p[i] = p[i], p[q] \n",
    "            \n",
    " \n",
    "given_string = \"DIPU\"\n",
    "n = len(given_string)\n",
    "p = list(given_string)\n",
    "permutations(p, 0, n-1)"
   ]
  },
  {
   "cell_type": "code",
   "execution_count": null,
   "id": "8ad16a84",
   "metadata": {},
   "outputs": [],
   "source": []
  }
 ],
 "metadata": {
  "kernelspec": {
   "display_name": "Python 3 (ipykernel)",
   "language": "python",
   "name": "python3"
  },
  "language_info": {
   "codemirror_mode": {
    "name": "ipython",
    "version": 3
   },
   "file_extension": ".py",
   "mimetype": "text/x-python",
   "name": "python",
   "nbconvert_exporter": "python",
   "pygments_lexer": "ipython3",
   "version": "3.9.6"
  }
 },
 "nbformat": 4,
 "nbformat_minor": 5
}
