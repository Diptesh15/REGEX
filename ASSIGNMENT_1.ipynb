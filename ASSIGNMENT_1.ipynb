{
  "nbformat": 4,
  "nbformat_minor": 0,
  "metadata": {
    "colab": {
      "name": "ASSIGNMENT-1.ipynb",
      "provenance": []
    },
    "kernelspec": {
      "name": "python3",
      "display_name": "Python 3"
    },
    "language_info": {
      "name": "python"
    }
  },
  "cells": [
    {
      "cell_type": "markdown",
      "metadata": {
        "id": "adm3o5q4Wrn5"
      },
      "source": [
        "#Task 1\n",
        "\n",
        "\n",
        "Registration / referral ID - SIRSS2214\n",
        "\n",
        "Full Name: Diptesh Milind Chaudhari"
      ]
    },
    {
      "cell_type": "code",
      "metadata": {
        "id": "kbm8bPkEWHo3"
      },
      "source": [
        "for i in range(1,6):\n",
        "  a=i\n",
        "  for j in range(i):\n",
        "    print(a,\" \",end=\"\")\n",
        "    a=a-1\n",
        "  print(\"\\n\")"
      ],
      "execution_count": null,
      "outputs": []
    },
    {
      "cell_type": "code",
      "metadata": {
        "id": "lJQe5Y11WAEj"
      },
      "source": [
        "for i in range(5,0,-1):\n",
        "  for j in range(i):\n",
        "    print(\"5 \",end=\"\")\n",
        "  print(\"\\n\")"
      ],
      "execution_count": null,
      "outputs": []
    },
    {
      "cell_type": "code",
      "metadata": {
        "id": "MxrPpyTSWDKP"
      },
      "source": [
        "for i in range(5,0,-1):\n",
        "  a=0\n",
        "  for j in range(i+1):\n",
        "    print(a,\" \",end=\"\")\n",
        "    a=a+1\n",
        "  print(\"\\n\")"
      ],
      "execution_count": null,
      "outputs": []
    },
    {
      "cell_type": "code",
      "metadata": {
        "id": "m2F1-BswWFWU"
      },
      "source": [
        "for i in range(1,6):\n",
        "  for j in range(i):\n",
        "    print((i*2)-1,\" \",end=\"\")\n",
        "  print(\"\\n\")"
      ],
      "execution_count": null,
      "outputs": []
    },
    {
      "cell_type": "code",
      "metadata": {
        "id": "XUAsRc3kWJ3O"
      },
      "source": [
        "a=0\n",
        "for i in range(1,5):\n",
        "  a=a+i\n",
        "  x=a\n",
        "  for j in range(i):\n",
        "    print(x,\" \",end=\"\")\n",
        "    x=x-1\n",
        "  print(\"\\n\")"
      ],
      "execution_count": null,
      "outputs": []
    },
    {
      "cell_type": "code",
      "metadata": {
        "id": "lhAjU93KWL6z"
      },
      "source": [
        "def fac(n):\n",
        "  f=1\n",
        "  while(n>1):\n",
        "    f=f*(n)\n",
        "    n=n-1\n",
        "  return f\n",
        "\n",
        "def c(n,r):\n",
        "  return int(fac(n)/(fac(r)*fac(n-r)))\n",
        "  \n",
        "\n",
        "for i in range(0,7):\n",
        "  x=0\n",
        "  for j in range(i+1):\n",
        "    print(c(i,x),\" \",end=\"\")\n",
        "    x=x+1\n",
        "  print(\"\\n\")"
      ],
      "execution_count": null,
      "outputs": []
    },
    {
      "cell_type": "code",
      "metadata": {
        "id": "zNKcwxvcWRAD"
      },
      "source": [
        "for i in range(1,6):\n",
        "  for j in range(i):\n",
        "    print(i,\" \",end=\"\")\n",
        "    x=i+1\n",
        "  for k in range(5-i):\n",
        "    print(x,\" \",end=\"\")\n",
        "    x=x+1\n",
        "  print('\\n')"
      ],
      "execution_count": null,
      "outputs": []
    },
    {
      "cell_type": "code",
      "metadata": {
        "id": "V_spOz_yWThu"
      },
      "source": [
        "for i in range(1,9):\n",
        "  x=i\n",
        "  for j in range(i):\n",
        "    print(x,\" \",end=\"\")\n",
        "    x=x+i\n",
        "  print(\"\\n\")"
      ],
      "execution_count": null,
      "outputs": []
    },
    {
      "cell_type": "code",
      "metadata": {
        "id": "46-aF0vGWVyT"
      },
      "source": [
        "for i in range(0,6):\n",
        "  for j in range(i):\n",
        "    print(\" \",end=\"\")\n",
        "  for k in range(6-i):\n",
        "   print(\"* \",end=\"\")\n",
        "  print(\"\\n\")"
      ],
      "execution_count": null,
      "outputs": []
    },
    {
      "cell_type": "code",
      "metadata": {
        "id": "iopJIvj8WX29"
      },
      "source": [
        "for i in range(0,8):\n",
        "  for j in range(8-i):\n",
        "    print(\" \",end=\"\")\n",
        "  for k in range(i):\n",
        "   print(\"* \",end=\"\")\n",
        "  print(\"\\n\")"
      ],
      "execution_count": null,
      "outputs": []
    },
    {
      "cell_type": "code",
      "metadata": {
        "id": "K9U1YMIWWZ_r"
      },
      "source": [
        "for i in range(1,7):\n",
        "  for j in range(i):\n",
        "    print(\"* \",end=\"\")\n",
        "  print(\"\\n\")\n",
        "\n",
        "print(\"\\n\")\n",
        "\n",
        "for i in range(6,0,-1):\n",
        "  for j in range(i):\n",
        "    print(\"* \",end=\"\")\n",
        "  print(\"\\n\")"
      ],
      "execution_count": null,
      "outputs": []
    },
    {
      "cell_type": "code",
      "metadata": {
        "id": "A9dYnT6yWcbD"
      },
      "source": [
        "for i in range(1,6):\n",
        "  for j in range(i):\n",
        "    print(\"* \",end=\"\")\n",
        "  print(\"\\n\")\n",
        "for i in range(4,0,-1):\n",
        "  for j in range(i):\n",
        "    print(\"* \",end=\"\")\n",
        "  print(\"\\n\")"
      ],
      "execution_count": null,
      "outputs": []
    },
    {
      "cell_type": "code",
      "metadata": {
        "id": "4SQd_3POWe1o"
      },
      "source": [
        "for i in range(0,6):\n",
        "  for j in range(6-i):\n",
        "    print(\"  \",end=\"\")\n",
        "  for k in range(i):\n",
        "   print(\"* \",end=\"\")\n",
        "  print(\"\\n\")\n",
        "for i in range(1,5):\n",
        "  for j in range(i+1):\n",
        "    print(\"  \",end=\"\")\n",
        "  for k in range(5-i):\n",
        "   print(\"* \",end=\"\")\n",
        "  print(\"\\n\")"
      ],
      "execution_count": null,
      "outputs": []
    },
    {
      "cell_type": "code",
      "metadata": {
        "id": "2d0R_jwuWhZL"
      },
      "source": [
        "for i in range(1,6):\n",
        "  for j in range(i):\n",
        "    print(\" \",end=\"\")\n",
        "  for k in range(6-i):\n",
        "   print(\"* \",end=\"\")\n",
        "  print(\"\\n\")\n",
        "for i in range(0,6):\n",
        "  for j in range(6-i):\n",
        "    print(\" \",end=\"\")\n",
        "  for k in range(i):\n",
        "   print(\"* \",end=\"\")\n",
        "  print(\"\\n\")"
      ],
      "execution_count": null,
      "outputs": []
    },
    {
      "cell_type": "code",
      "metadata": {
        "id": "NijKCnZdWj2p"
      },
      "source": [
        "for i in range(0,8):\n",
        "\n",
        "  for j in range(8-i):\n",
        "    print(\"* \",end=\"\")\n",
        "  for k in range(i*2):\n",
        "    print(\"_ \",end=\"\")\n",
        "  for l in range(8-i):\n",
        "    print(\"* \",end=\"\")\n",
        "  print(\"\\n\")"
      ],
      "execution_count": null,
      "outputs": []
    },
    {
      "cell_type": "code",
      "metadata": {
        "id": "W5dojVrGWmvr"
      },
      "source": [
        ""
      ],
      "execution_count": null,
      "outputs": []
    }
  ]
}