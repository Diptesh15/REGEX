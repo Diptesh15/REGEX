{
  "nbformat": 4,
  "nbformat_minor": 0,
  "metadata": {
    "colab": {
      "name": "ASSIGNMENT-1.ipynb",
      "provenance": []
    },
    "kernelspec": {
      "name": "python3",
      "display_name": "Python 3"
    },
    "language_info": {
      "name": "python"
    }
  },
  "cells": [
    {
      "cell_type": "markdown",
      "metadata": {
        "id": "adm3o5q4Wrn5"
      },
      "source": [
        "#Task 1\n",
        "\n",
        "\n",
        "Registration / referral ID - SIRSS2214\n",
        "\n",
        "Full Name: Diptesh Milind Chaudhari"
      ]
    },
    {
      "cell_type": "code",
      "metadata": {
        "colab": {
          "base_uri": "https://localhost:8080/"
        },
        "id": "kbm8bPkEWHo3",
        "outputId": "680766be-105e-44bd-afb3-3ec17fab5025"
      },
      "source": [
        "for i in range(1,6):\n",
        "  a=i\n",
        "  for j in range(i):\n",
        "    print(a,\" \",end=\"\")\n",
        "    a=a-1\n",
        "  print(\"\\n\")"
      ],
      "execution_count": 1,
      "outputs": [
        {
          "output_type": "stream",
          "text": [
            "1  \n",
            "\n",
            "2  1  \n",
            "\n",
            "3  2  1  \n",
            "\n",
            "4  3  2  1  \n",
            "\n",
            "5  4  3  2  1  \n",
            "\n"
          ],
          "name": "stdout"
        }
      ]
    },
    {
      "cell_type": "code",
      "metadata": {
        "colab": {
          "base_uri": "https://localhost:8080/"
        },
        "id": "lJQe5Y11WAEj",
        "outputId": "aeed0c33-d1c2-4875-aef0-9ca1931d7b01"
      },
      "source": [
        "for i in range(5,0,-1):\n",
        "  for j in range(i):\n",
        "    print(\"5 \",end=\"\")\n",
        "  print(\"\\n\")"
      ],
      "execution_count": 2,
      "outputs": [
        {
          "output_type": "stream",
          "text": [
            "5 5 5 5 5 \n",
            "\n",
            "5 5 5 5 \n",
            "\n",
            "5 5 5 \n",
            "\n",
            "5 5 \n",
            "\n",
            "5 \n",
            "\n"
          ],
          "name": "stdout"
        }
      ]
    },
    {
      "cell_type": "code",
      "metadata": {
        "colab": {
          "base_uri": "https://localhost:8080/"
        },
        "id": "MxrPpyTSWDKP",
        "outputId": "7ba809b2-e050-4285-e80b-9d929bafa2f7"
      },
      "source": [
        "for i in range(5,0,-1):\n",
        "  a=0\n",
        "  for j in range(i+1):\n",
        "    print(a,\" \",end=\"\")\n",
        "    a=a+1\n",
        "  print(\"\\n\")"
      ],
      "execution_count": 3,
      "outputs": [
        {
          "output_type": "stream",
          "text": [
            "0  1  2  3  4  5  \n",
            "\n",
            "0  1  2  3  4  \n",
            "\n",
            "0  1  2  3  \n",
            "\n",
            "0  1  2  \n",
            "\n",
            "0  1  \n",
            "\n"
          ],
          "name": "stdout"
        }
      ]
    },
    {
      "cell_type": "code",
      "metadata": {
        "colab": {
          "base_uri": "https://localhost:8080/"
        },
        "id": "m2F1-BswWFWU",
        "outputId": "3d7b6c59-4f7a-4357-cc03-fcded4667d90"
      },
      "source": [
        "for i in range(1,6):\n",
        "  for j in range(i):\n",
        "    print((i*2)-1,\" \",end=\"\")\n",
        "  print(\"\\n\")"
      ],
      "execution_count": 4,
      "outputs": [
        {
          "output_type": "stream",
          "text": [
            "1  \n",
            "\n",
            "3  3  \n",
            "\n",
            "5  5  5  \n",
            "\n",
            "7  7  7  7  \n",
            "\n",
            "9  9  9  9  9  \n",
            "\n"
          ],
          "name": "stdout"
        }
      ]
    },
    {
      "cell_type": "code",
      "metadata": {
        "colab": {
          "base_uri": "https://localhost:8080/"
        },
        "id": "XUAsRc3kWJ3O",
        "outputId": "53e61131-d239-4829-9211-9a9c5e7ad67d"
      },
      "source": [
        "a=0\n",
        "for i in range(1,5):\n",
        "  a=a+i\n",
        "  x=a\n",
        "  for j in range(i):\n",
        "    print(x,\" \",end=\"\")\n",
        "    x=x-1\n",
        "  print(\"\\n\")"
      ],
      "execution_count": 5,
      "outputs": [
        {
          "output_type": "stream",
          "text": [
            "1  \n",
            "\n",
            "3  2  \n",
            "\n",
            "6  5  4  \n",
            "\n",
            "10  9  8  7  \n",
            "\n"
          ],
          "name": "stdout"
        }
      ]
    },
    {
      "cell_type": "code",
      "metadata": {
        "colab": {
          "base_uri": "https://localhost:8080/"
        },
        "id": "lhAjU93KWL6z",
        "outputId": "5276e9ea-7e09-4433-d886-846c47c0156c"
      },
      "source": [
        "def fac(n):\n",
        "  f=1\n",
        "  while(n>1):\n",
        "    f=f*(n)\n",
        "    n=n-1\n",
        "  return f\n",
        "\n",
        "def c(n,r):\n",
        "  return int(fac(n)/(fac(r)*fac(n-r)))\n",
        "  \n",
        "\n",
        "for i in range(0,7):\n",
        "  x=0\n",
        "  for j in range(i+1):\n",
        "    print(c(i,x),\" \",end=\"\")\n",
        "    x=x+1\n",
        "  print(\"\\n\")"
      ],
      "execution_count": 6,
      "outputs": [
        {
          "output_type": "stream",
          "text": [
            "1  \n",
            "\n",
            "1  1  \n",
            "\n",
            "1  2  1  \n",
            "\n",
            "1  3  3  1  \n",
            "\n",
            "1  4  6  4  1  \n",
            "\n",
            "1  5  10  10  5  1  \n",
            "\n",
            "1  6  15  20  15  6  1  \n",
            "\n"
          ],
          "name": "stdout"
        }
      ]
    },
    {
      "cell_type": "code",
      "metadata": {
        "colab": {
          "base_uri": "https://localhost:8080/"
        },
        "id": "zNKcwxvcWRAD",
        "outputId": "cc5e6a66-bd12-4545-b45d-99e6d5cd6358"
      },
      "source": [
        "for i in range(1,6):\n",
        "  for j in range(i):\n",
        "    print(i,\" \",end=\"\")\n",
        "    x=i+1\n",
        "  for k in range(5-i):\n",
        "    print(x,\" \",end=\"\")\n",
        "    x=x+1\n",
        "  print('\\n')"
      ],
      "execution_count": 7,
      "outputs": [
        {
          "output_type": "stream",
          "text": [
            "1  2  3  4  5  \n",
            "\n",
            "2  2  3  4  5  \n",
            "\n",
            "3  3  3  4  5  \n",
            "\n",
            "4  4  4  4  5  \n",
            "\n",
            "5  5  5  5  5  \n",
            "\n"
          ],
          "name": "stdout"
        }
      ]
    },
    {
      "cell_type": "code",
      "metadata": {
        "colab": {
          "base_uri": "https://localhost:8080/"
        },
        "id": "V_spOz_yWThu",
        "outputId": "34906ab6-3f16-40dd-c5fc-673449fb0a7c"
      },
      "source": [
        "for i in range(1,9):\n",
        "  x=i\n",
        "  for j in range(i):\n",
        "    print(x,\" \",end=\"\")\n",
        "    x=x+i\n",
        "  print(\"\\n\")"
      ],
      "execution_count": 8,
      "outputs": [
        {
          "output_type": "stream",
          "text": [
            "1  \n",
            "\n",
            "2  4  \n",
            "\n",
            "3  6  9  \n",
            "\n",
            "4  8  12  16  \n",
            "\n",
            "5  10  15  20  25  \n",
            "\n",
            "6  12  18  24  30  36  \n",
            "\n",
            "7  14  21  28  35  42  49  \n",
            "\n",
            "8  16  24  32  40  48  56  64  \n",
            "\n"
          ],
          "name": "stdout"
        }
      ]
    },
    {
      "cell_type": "code",
      "metadata": {
        "colab": {
          "base_uri": "https://localhost:8080/"
        },
        "id": "46-aF0vGWVyT",
        "outputId": "c16d31d3-9b7b-4b34-d9d5-a1ea0c72e91b"
      },
      "source": [
        "for i in range(0,6):\n",
        "  for j in range(i):\n",
        "    print(\" \",end=\"\")\n",
        "  for k in range(6-i):\n",
        "   print(\"* \",end=\"\")\n",
        "  print(\"\\n\")"
      ],
      "execution_count": 9,
      "outputs": [
        {
          "output_type": "stream",
          "text": [
            "* * * * * * \n",
            "\n",
            " * * * * * \n",
            "\n",
            "  * * * * \n",
            "\n",
            "   * * * \n",
            "\n",
            "    * * \n",
            "\n",
            "     * \n",
            "\n"
          ],
          "name": "stdout"
        }
      ]
    },
    {
      "cell_type": "code",
      "metadata": {
        "colab": {
          "base_uri": "https://localhost:8080/"
        },
        "id": "iopJIvj8WX29",
        "outputId": "3de0ba0c-f110-4a08-df82-d04d260b58ba"
      },
      "source": [
        "for i in range(0,8):\n",
        "  for j in range(8-i):\n",
        "    print(\" \",end=\"\")\n",
        "  for k in range(i):\n",
        "   print(\"* \",end=\"\")\n",
        "  print(\"\\n\")"
      ],
      "execution_count": 10,
      "outputs": [
        {
          "output_type": "stream",
          "text": [
            "        \n",
            "\n",
            "       * \n",
            "\n",
            "      * * \n",
            "\n",
            "     * * * \n",
            "\n",
            "    * * * * \n",
            "\n",
            "   * * * * * \n",
            "\n",
            "  * * * * * * \n",
            "\n",
            " * * * * * * * \n",
            "\n"
          ],
          "name": "stdout"
        }
      ]
    },
    {
      "cell_type": "code",
      "metadata": {
        "colab": {
          "base_uri": "https://localhost:8080/"
        },
        "id": "K9U1YMIWWZ_r",
        "outputId": "27e377ef-3b61-4849-da2c-4b343926c646"
      },
      "source": [
        "for i in range(1,7):\n",
        "  for j in range(i):\n",
        "    print(\"* \",end=\"\")\n",
        "  print(\"\\n\")\n",
        "\n",
        "print(\"\\n\")\n",
        "\n",
        "for i in range(6,0,-1):\n",
        "  for j in range(i):\n",
        "    print(\"* \",end=\"\")\n",
        "  print(\"\\n\")"
      ],
      "execution_count": 11,
      "outputs": [
        {
          "output_type": "stream",
          "text": [
            "* \n",
            "\n",
            "* * \n",
            "\n",
            "* * * \n",
            "\n",
            "* * * * \n",
            "\n",
            "* * * * * \n",
            "\n",
            "* * * * * * \n",
            "\n",
            "\n",
            "\n",
            "* * * * * * \n",
            "\n",
            "* * * * * \n",
            "\n",
            "* * * * \n",
            "\n",
            "* * * \n",
            "\n",
            "* * \n",
            "\n",
            "* \n",
            "\n"
          ],
          "name": "stdout"
        }
      ]
    },
    {
      "cell_type": "code",
      "metadata": {
        "colab": {
          "base_uri": "https://localhost:8080/"
        },
        "id": "A9dYnT6yWcbD",
        "outputId": "bc706a18-56d8-4e0d-d22f-6de29b1beda9"
      },
      "source": [
        "for i in range(1,6):\n",
        "  for j in range(i):\n",
        "    print(\"* \",end=\"\")\n",
        "  print(\"\\n\")\n",
        "for i in range(4,0,-1):\n",
        "  for j in range(i):\n",
        "    print(\"* \",end=\"\")\n",
        "  print(\"\\n\")"
      ],
      "execution_count": 12,
      "outputs": [
        {
          "output_type": "stream",
          "text": [
            "* \n",
            "\n",
            "* * \n",
            "\n",
            "* * * \n",
            "\n",
            "* * * * \n",
            "\n",
            "* * * * * \n",
            "\n",
            "* * * * \n",
            "\n",
            "* * * \n",
            "\n",
            "* * \n",
            "\n",
            "* \n",
            "\n"
          ],
          "name": "stdout"
        }
      ]
    },
    {
      "cell_type": "code",
      "metadata": {
        "colab": {
          "base_uri": "https://localhost:8080/"
        },
        "id": "4SQd_3POWe1o",
        "outputId": "20911eb8-6845-43ca-936a-ec4031687254"
      },
      "source": [
        "for i in range(0,6):\n",
        "  for j in range(6-i):\n",
        "    print(\"  \",end=\"\")\n",
        "  for k in range(i):\n",
        "   print(\"* \",end=\"\")\n",
        "  print(\"\\n\")\n",
        "for i in range(1,5):\n",
        "  for j in range(i+1):\n",
        "    print(\"  \",end=\"\")\n",
        "  for k in range(5-i):\n",
        "   print(\"* \",end=\"\")\n",
        "  print(\"\\n\")"
      ],
      "execution_count": 13,
      "outputs": [
        {
          "output_type": "stream",
          "text": [
            "            \n",
            "\n",
            "          * \n",
            "\n",
            "        * * \n",
            "\n",
            "      * * * \n",
            "\n",
            "    * * * * \n",
            "\n",
            "  * * * * * \n",
            "\n",
            "    * * * * \n",
            "\n",
            "      * * * \n",
            "\n",
            "        * * \n",
            "\n",
            "          * \n",
            "\n"
          ],
          "name": "stdout"
        }
      ]
    },
    {
      "cell_type": "code",
      "metadata": {
        "colab": {
          "base_uri": "https://localhost:8080/"
        },
        "id": "2d0R_jwuWhZL",
        "outputId": "83d6315a-ae76-4fa2-8158-d0daa1890c90"
      },
      "source": [
        "for i in range(1,6):\n",
        "  for j in range(i):\n",
        "    print(\" \",end=\"\")\n",
        "  for k in range(6-i):\n",
        "   print(\"* \",end=\"\")\n",
        "  print(\"\\n\")\n",
        "for i in range(0,6):\n",
        "  for j in range(6-i):\n",
        "    print(\" \",end=\"\")\n",
        "  for k in range(i):\n",
        "   print(\"* \",end=\"\")\n",
        "  print(\"\\n\")"
      ],
      "execution_count": 14,
      "outputs": [
        {
          "output_type": "stream",
          "text": [
            " * * * * * \n",
            "\n",
            "  * * * * \n",
            "\n",
            "   * * * \n",
            "\n",
            "    * * \n",
            "\n",
            "     * \n",
            "\n",
            "      \n",
            "\n",
            "     * \n",
            "\n",
            "    * * \n",
            "\n",
            "   * * * \n",
            "\n",
            "  * * * * \n",
            "\n",
            " * * * * * \n",
            "\n"
          ],
          "name": "stdout"
        }
      ]
    },
    {
      "cell_type": "code",
      "metadata": {
        "colab": {
          "base_uri": "https://localhost:8080/"
        },
        "id": "NijKCnZdWj2p",
        "outputId": "29a11e8b-55d0-4c3e-b127-75a3131fcf85"
      },
      "source": [
        "for i in range(0,8):\n",
        "\n",
        "  for j in range(8-i):\n",
        "    print(\"* \",end=\"\")\n",
        "  for k in range(i*2):\n",
        "    print(\"_ \",end=\"\")\n",
        "  for l in range(8-i):\n",
        "    print(\"* \",end=\"\")\n",
        "  print(\"\\n\")"
      ],
      "execution_count": 15,
      "outputs": [
        {
          "output_type": "stream",
          "text": [
            "* * * * * * * * * * * * * * * * \n",
            "\n",
            "* * * * * * * _ _ * * * * * * * \n",
            "\n",
            "* * * * * * _ _ _ _ * * * * * * \n",
            "\n",
            "* * * * * _ _ _ _ _ _ * * * * * \n",
            "\n",
            "* * * * _ _ _ _ _ _ _ _ * * * * \n",
            "\n",
            "* * * _ _ _ _ _ _ _ _ _ _ * * * \n",
            "\n",
            "* * _ _ _ _ _ _ _ _ _ _ _ _ * * \n",
            "\n",
            "* _ _ _ _ _ _ _ _ _ _ _ _ _ _ * \n",
            "\n"
          ],
          "name": "stdout"
        }
      ]
    },
    {
      "cell_type": "code",
      "metadata": {
        "id": "W5dojVrGWmvr"
      },
      "source": [
        ""
      ],
      "execution_count": 15,
      "outputs": []
    }
  ]
}